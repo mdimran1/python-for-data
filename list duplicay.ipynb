{
 "cells": [
  {
   "cell_type": "markdown",
   "id": "68b32c7f-6b4a-4502-9e52-83a5d35c3e47",
   "metadata": {},
   "source": [
    "# clearing list  duplicacy"
   ]
  },
  {
   "cell_type": "code",
   "execution_count": 16,
   "id": "88436030-07b3-4b55-af16-b1fea3a595d0",
   "metadata": {},
   "outputs": [
    {
     "data": {
      "text/plain": [
       "[2, 4, 5, 7, 9, 32, 54]"
      ]
     },
     "execution_count": 16,
     "metadata": {},
     "output_type": "execute_result"
    }
   ],
   "source": [
    "# by Iteration\n",
    "\n",
    "list_temp = [2, 4, 2, 5, 7, 9, 32, 4, 54, 32]\n",
    "clear_list = []\n",
    "for items in list_temp:\n",
    "    if items not in clear_list:\n",
    "        clear_list.append(items)\n",
    "clear_list"
   ]
  },
  {
   "cell_type": "code",
   "execution_count": 15,
   "id": "ad592fca-804a-4a34-990b-224bb2a1226c",
   "metadata": {},
   "outputs": [
    {
     "data": {
      "text/plain": [
       "{2, 3, 5, 7, 8, 11}"
      ]
     },
     "execution_count": 15,
     "metadata": {},
     "output_type": "execute_result"
    }
   ],
   "source": [
    "# method-2 :  list comprehension\n",
    "\n",
    "\n",
    "temp = [2, 3, 5, 3, 2, 5, 7, 8, 8, 5, 2, 11]\n",
    "custom_list = {i for i in temp}\n",
    "custom_list"
   ]
  },
  {
   "cell_type": "markdown",
   "id": "3c50e613-5bd2-4140-a975-3703a694d4ba",
   "metadata": {},
   "source": [
    "# Finding list items which are common or unique:"
   ]
  },
  {
   "cell_type": "code",
   "execution_count": 18,
   "id": "fbf74c38-57f8-415b-90c4-b88c77e9f9db",
   "metadata": {},
   "outputs": [
    {
     "data": {
      "text/plain": [
       "[2, 4, 22, 63, 2, 25, 42]"
      ]
     },
     "execution_count": 18,
     "metadata": {},
     "output_type": "execute_result"
    }
   ],
   "source": [
    "# which are common with another list:\n",
    "\n",
    "\n",
    "a = [2, 56, 4, 34, 13, 22, 63, 542, 2, 45, 25, 42, 34]\n",
    "\n",
    "compare_list = ['s', 's', 2, 54, 63, 22, 43, 25, 2, 42, 23, 4, 243, 'jack', 'john']\n",
    "\n",
    "common_list = [i for i in a if i  in compare_list]\n",
    "\n",
    "common_list\n"
   ]
  },
  {
   "cell_type": "markdown",
   "id": "6f58db95-5c07-4e6b-8d7e-246ef773c70c",
   "metadata": {},
   "source": [
    "#### Finding items which are unique to another list:"
   ]
  },
  {
   "cell_type": "code",
   "execution_count": 20,
   "id": "db8acca5-997f-4e9a-9b67-11286e9f760d",
   "metadata": {},
   "outputs": [
    {
     "data": {
      "text/plain": [
       "[56, 3413, 24, 542, 245]"
      ]
     },
     "execution_count": 20,
     "metadata": {},
     "output_type": "execute_result"
    }
   ],
   "source": [
    "a = [2,56,4,3413,43,24,22,63,542,245,25, 'john']\n",
    "\n",
    "compare_list = ['s','s',2,54,63,22,43,25,2,42,23,4,243, 'orange', 'john']\n",
    "\n",
    "unique_list = [i for i in a if i not in compare_list]\n",
    "\n",
    "unique_list"
   ]
  },
  {
   "cell_type": "code",
   "execution_count": null,
   "id": "ada36181-5076-419d-955a-bb38db27c48a",
   "metadata": {},
   "outputs": [],
   "source": []
  }
 ],
 "metadata": {
  "kernelspec": {
   "display_name": "Python",
   "language": "python",
   "name": "conda-env-python-py"
  },
  "language_info": {
   "codemirror_mode": {
    "name": "ipython",
    "version": 3
   },
   "file_extension": ".py",
   "mimetype": "text/x-python",
   "name": "python",
   "nbconvert_exporter": "python",
   "pygments_lexer": "ipython3",
   "version": "3.6.13"
  }
 },
 "nbformat": 4,
 "nbformat_minor": 5
}
