{
 "cells": [
  {
   "cell_type": "markdown",
   "id": "e067a046-e134-45e3-ae4a-bac32b8a29a0",
   "metadata": {},
   "source": [
    "# Replace elements of a list"
   ]
  },
  {
   "cell_type": "markdown",
   "id": "faab7903-5027-4ad1-ad36-377d7afcc71c",
   "metadata": {},
   "source": [
    "### method:1 | list comprehension"
   ]
  },
  {
   "cell_type": "code",
   "execution_count": 7,
   "id": "ae004be1-42ba-45a4-b28d-8a2550bf9189",
   "metadata": {},
   "outputs": [
    {
     "name": "stdout",
     "output_type": "stream",
     "text": [
      "[1, 4, 2, 'replace', 0, 'replace']\n"
     ]
    }
   ],
   "source": [
    "data_list = [1, 4, 2, 3, 0, 3]\n",
    "data_list = ['replace' if x==3 else x for x in data_list]\n",
    "print(data_list)"
   ]
  },
  {
   "cell_type": "markdown",
   "id": "fd2cb2f8-73a7-472f-9f67-e6343db7c99d",
   "metadata": {},
   "source": [
    "### method: 2 | dictionery "
   ]
  },
  {
   "cell_type": "code",
   "execution_count": 8,
   "id": "a860d38b-86a3-4aa7-aa08-b330aa121576",
   "metadata": {},
   "outputs": [
    {
     "name": "stdout",
     "output_type": "stream",
     "text": [
      "[2, 3, 'replace', 5, 8, 2, 3, 'replace', 7, 9]\n"
     ]
    }
   ],
   "source": [
    "data_c = [2, 3, 1, 5, 8, 2, 3, 1, 7, 9]\n",
    "dict= {\n",
    "    1: 'replace'\n",
    "}\n",
    "data_c[:]= [dict.get(i,i) for i in data_c]\n",
    "print(data_c)"
   ]
  },
  {
   "cell_type": "markdown",
   "id": "5e6d5ea2-ded9-4106-9048-d2d2d8fd6bda",
   "metadata": {},
   "source": [
    "### method-3: | loop\n"
   ]
  },
  {
   "cell_type": "code",
   "execution_count": 9,
   "id": "be55971a-c826-48ca-8e04-54bc497677c4",
   "metadata": {},
   "outputs": [
    {
     "name": "stdout",
     "output_type": "stream",
     "text": [
      "['replace', 4, 2, 3, 0]\n"
     ]
    }
   ],
   "source": [
    "data_d =[1, 4, 2, 3, 0]\n",
    "data_e=[]\n",
    "for i in data_d:\n",
    "    if i ==1:\n",
    "        i= 'replace'\n",
    "    data_e.append(i)\n",
    "print(data_e)\n"
   ]
  }
 ],
 "metadata": {
  "kernelspec": {
   "display_name": "Python",
   "language": "python",
   "name": "conda-env-python-py"
  },
  "language_info": {
   "codemirror_mode": {
    "name": "ipython",
    "version": 3
   },
   "file_extension": ".py",
   "mimetype": "text/x-python",
   "name": "python",
   "nbconvert_exporter": "python",
   "pygments_lexer": "ipython3",
   "version": "3.6.13"
  }
 },
 "nbformat": 4,
 "nbformat_minor": 5
}
