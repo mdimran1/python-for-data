{
  "nbformat": 4,
  "nbformat_minor": 0,
  "metadata": {
    "colab": {
      "name": "mean_encoding.ipynb",
      "provenance": [],
      "collapsed_sections": []
    },
    "kernelspec": {
      "name": "python3",
      "display_name": "Python 3"
    },
    "language_info": {
      "name": "python"
    }
  },
  "cells": [
    {
      "cell_type": "markdown",
      "source": [
        "# importing modules"
      ],
      "metadata": {
        "id": "pwvDtOMueTdc"
      }
    },
    {
      "cell_type": "code",
      "source": [
        "!pip install grader"
      ],
      "metadata": {
        "colab": {
          "base_uri": "https://localhost:8080/"
        },
        "id": "CP1V4ITlZLyU",
        "outputId": "4c868605-64b9-42a4-8df1-a067fb90e34e"
      },
      "execution_count": 1,
      "outputs": [
        {
          "output_type": "stream",
          "name": "stdout",
          "text": [
            "Looking in indexes: https://pypi.org/simple, https://us-python.pkg.dev/colab-wheels/public/simple/\n",
            "Requirement already satisfied: grader in /usr/local/lib/python3.7/dist-packages (1.2)\n"
          ]
        }
      ]
    },
    {
      "cell_type": "code",
      "source": [
        "import pandas as pd\n",
        "import numpy as np\n",
        "from itertools import product\n",
        "from grader import grader"
      ],
      "metadata": {
        "id": "5XZp6UYdUt64"
      },
      "execution_count": 2,
      "outputs": []
    },
    {
      "cell_type": "code",
      "execution_count": 3,
      "metadata": {
        "colab": {
          "base_uri": "https://localhost:8080/",
          "height": 206
        },
        "id": "dWJ8vwy8Umzi",
        "outputId": "05e6b634-e7cd-4499-85d8-94cc45148ee4"
      },
      "outputs": [
        {
          "output_type": "execute_result",
          "data": {
            "text/plain": [
              "         date  date_block_num  shop_id  item_id  item_price  item_cnt_day\n",
              "0  02.01.2013               0       59    22154      999.00           1.0\n",
              "1  03.01.2013               0       25     2552      899.00           1.0\n",
              "2  05.01.2013               0       25     2552      899.00          -1.0\n",
              "3  06.01.2013               0       25     2554     1709.05           1.0\n",
              "4  15.01.2013               0       25     2555     1099.00           1.0"
            ],
            "text/html": [
              "\n",
              "  <div id=\"df-908b9cda-870b-41d3-88cd-e726eeda3264\">\n",
              "    <div class=\"colab-df-container\">\n",
              "      <div>\n",
              "<style scoped>\n",
              "    .dataframe tbody tr th:only-of-type {\n",
              "        vertical-align: middle;\n",
              "    }\n",
              "\n",
              "    .dataframe tbody tr th {\n",
              "        vertical-align: top;\n",
              "    }\n",
              "\n",
              "    .dataframe thead th {\n",
              "        text-align: right;\n",
              "    }\n",
              "</style>\n",
              "<table border=\"1\" class=\"dataframe\">\n",
              "  <thead>\n",
              "    <tr style=\"text-align: right;\">\n",
              "      <th></th>\n",
              "      <th>date</th>\n",
              "      <th>date_block_num</th>\n",
              "      <th>shop_id</th>\n",
              "      <th>item_id</th>\n",
              "      <th>item_price</th>\n",
              "      <th>item_cnt_day</th>\n",
              "    </tr>\n",
              "  </thead>\n",
              "  <tbody>\n",
              "    <tr>\n",
              "      <th>0</th>\n",
              "      <td>02.01.2013</td>\n",
              "      <td>0</td>\n",
              "      <td>59</td>\n",
              "      <td>22154</td>\n",
              "      <td>999.00</td>\n",
              "      <td>1.0</td>\n",
              "    </tr>\n",
              "    <tr>\n",
              "      <th>1</th>\n",
              "      <td>03.01.2013</td>\n",
              "      <td>0</td>\n",
              "      <td>25</td>\n",
              "      <td>2552</td>\n",
              "      <td>899.00</td>\n",
              "      <td>1.0</td>\n",
              "    </tr>\n",
              "    <tr>\n",
              "      <th>2</th>\n",
              "      <td>05.01.2013</td>\n",
              "      <td>0</td>\n",
              "      <td>25</td>\n",
              "      <td>2552</td>\n",
              "      <td>899.00</td>\n",
              "      <td>-1.0</td>\n",
              "    </tr>\n",
              "    <tr>\n",
              "      <th>3</th>\n",
              "      <td>06.01.2013</td>\n",
              "      <td>0</td>\n",
              "      <td>25</td>\n",
              "      <td>2554</td>\n",
              "      <td>1709.05</td>\n",
              "      <td>1.0</td>\n",
              "    </tr>\n",
              "    <tr>\n",
              "      <th>4</th>\n",
              "      <td>15.01.2013</td>\n",
              "      <td>0</td>\n",
              "      <td>25</td>\n",
              "      <td>2555</td>\n",
              "      <td>1099.00</td>\n",
              "      <td>1.0</td>\n",
              "    </tr>\n",
              "  </tbody>\n",
              "</table>\n",
              "</div>\n",
              "      <button class=\"colab-df-convert\" onclick=\"convertToInteractive('df-908b9cda-870b-41d3-88cd-e726eeda3264')\"\n",
              "              title=\"Convert this dataframe to an interactive table.\"\n",
              "              style=\"display:none;\">\n",
              "        \n",
              "  <svg xmlns=\"http://www.w3.org/2000/svg\" height=\"24px\"viewBox=\"0 0 24 24\"\n",
              "       width=\"24px\">\n",
              "    <path d=\"M0 0h24v24H0V0z\" fill=\"none\"/>\n",
              "    <path d=\"M18.56 5.44l.94 2.06.94-2.06 2.06-.94-2.06-.94-.94-2.06-.94 2.06-2.06.94zm-11 1L8.5 8.5l.94-2.06 2.06-.94-2.06-.94L8.5 2.5l-.94 2.06-2.06.94zm10 10l.94 2.06.94-2.06 2.06-.94-2.06-.94-.94-2.06-.94 2.06-2.06.94z\"/><path d=\"M17.41 7.96l-1.37-1.37c-.4-.4-.92-.59-1.43-.59-.52 0-1.04.2-1.43.59L10.3 9.45l-7.72 7.72c-.78.78-.78 2.05 0 2.83L4 21.41c.39.39.9.59 1.41.59.51 0 1.02-.2 1.41-.59l7.78-7.78 2.81-2.81c.8-.78.8-2.07 0-2.86zM5.41 20L4 18.59l7.72-7.72 1.47 1.35L5.41 20z\"/>\n",
              "  </svg>\n",
              "      </button>\n",
              "      \n",
              "  <style>\n",
              "    .colab-df-container {\n",
              "      display:flex;\n",
              "      flex-wrap:wrap;\n",
              "      gap: 12px;\n",
              "    }\n",
              "\n",
              "    .colab-df-convert {\n",
              "      background-color: #E8F0FE;\n",
              "      border: none;\n",
              "      border-radius: 50%;\n",
              "      cursor: pointer;\n",
              "      display: none;\n",
              "      fill: #1967D2;\n",
              "      height: 32px;\n",
              "      padding: 0 0 0 0;\n",
              "      width: 32px;\n",
              "    }\n",
              "\n",
              "    .colab-df-convert:hover {\n",
              "      background-color: #E2EBFA;\n",
              "      box-shadow: 0px 1px 2px rgba(60, 64, 67, 0.3), 0px 1px 3px 1px rgba(60, 64, 67, 0.15);\n",
              "      fill: #174EA6;\n",
              "    }\n",
              "\n",
              "    [theme=dark] .colab-df-convert {\n",
              "      background-color: #3B4455;\n",
              "      fill: #D2E3FC;\n",
              "    }\n",
              "\n",
              "    [theme=dark] .colab-df-convert:hover {\n",
              "      background-color: #434B5C;\n",
              "      box-shadow: 0px 1px 3px 1px rgba(0, 0, 0, 0.15);\n",
              "      filter: drop-shadow(0px 1px 2px rgba(0, 0, 0, 0.3));\n",
              "      fill: #FFFFFF;\n",
              "    }\n",
              "  </style>\n",
              "\n",
              "      <script>\n",
              "        const buttonEl =\n",
              "          document.querySelector('#df-908b9cda-870b-41d3-88cd-e726eeda3264 button.colab-df-convert');\n",
              "        buttonEl.style.display =\n",
              "          google.colab.kernel.accessAllowed ? 'block' : 'none';\n",
              "\n",
              "        async function convertToInteractive(key) {\n",
              "          const element = document.querySelector('#df-908b9cda-870b-41d3-88cd-e726eeda3264');\n",
              "          const dataTable =\n",
              "            await google.colab.kernel.invokeFunction('convertToInteractive',\n",
              "                                                     [key], {});\n",
              "          if (!dataTable) return;\n",
              "\n",
              "          const docLinkHtml = 'Like what you see? Visit the ' +\n",
              "            '<a target=\"_blank\" href=https://colab.research.google.com/notebooks/data_table.ipynb>data table notebook</a>'\n",
              "            + ' to learn more about interactive tables.';\n",
              "          element.innerHTML = '';\n",
              "          dataTable['output_type'] = 'display_data';\n",
              "          await google.colab.output.renderOutput(dataTable, element);\n",
              "          const docLink = document.createElement('div');\n",
              "          docLink.innerHTML = docLinkHtml;\n",
              "          element.appendChild(docLink);\n",
              "        }\n",
              "      </script>\n",
              "    </div>\n",
              "  </div>\n",
              "  "
            ]
          },
          "metadata": {},
          "execution_count": 3
        }
      ],
      "source": [
        "url = 'https://github.com/hse-aml/competitive-data-science/blob/master/readonly/final_project_data/sales_train.csv.gz?raw=true'\n",
        "sales = pd.read_csv(url, compression='gzip')\n",
        "sales.head()"
      ]
    },
    {
      "cell_type": "code",
      "source": [
        "sales.describe().round()\n",
        "mask = (sales.date_block_num ==2)\n",
        "mask = (sales.date_block_num ==0)\n",
        "sales.loc[mask][-5:]\n",
        "\n",
        "## date_block_num is assigned according to months"
      ],
      "metadata": {
        "colab": {
          "base_uri": "https://localhost:8080/",
          "height": 206
        },
        "id": "W1zHJ7XVUrcd",
        "outputId": "bb3b16f5-62f4-4453-fabe-f99f4f50ffe1"
      },
      "execution_count": 4,
      "outputs": [
        {
          "output_type": "execute_result",
          "data": {
            "text/plain": [
              "              date  date_block_num  shop_id  item_id  item_price  item_cnt_day\n",
              "115685  19.01.2013               0       46       32       349.0           1.0\n",
              "115686  18.01.2013               0       46       32       349.0           1.0\n",
              "115687  26.01.2013               0       46       35       399.0           2.0\n",
              "115688  31.01.2013               0       46      621       149.0           1.0\n",
              "115689  07.01.2013               0       46       32       349.0           1.0"
            ],
            "text/html": [
              "\n",
              "  <div id=\"df-98db1bcc-7eb4-44f9-b892-3d68ca832f19\">\n",
              "    <div class=\"colab-df-container\">\n",
              "      <div>\n",
              "<style scoped>\n",
              "    .dataframe tbody tr th:only-of-type {\n",
              "        vertical-align: middle;\n",
              "    }\n",
              "\n",
              "    .dataframe tbody tr th {\n",
              "        vertical-align: top;\n",
              "    }\n",
              "\n",
              "    .dataframe thead th {\n",
              "        text-align: right;\n",
              "    }\n",
              "</style>\n",
              "<table border=\"1\" class=\"dataframe\">\n",
              "  <thead>\n",
              "    <tr style=\"text-align: right;\">\n",
              "      <th></th>\n",
              "      <th>date</th>\n",
              "      <th>date_block_num</th>\n",
              "      <th>shop_id</th>\n",
              "      <th>item_id</th>\n",
              "      <th>item_price</th>\n",
              "      <th>item_cnt_day</th>\n",
              "    </tr>\n",
              "  </thead>\n",
              "  <tbody>\n",
              "    <tr>\n",
              "      <th>115685</th>\n",
              "      <td>19.01.2013</td>\n",
              "      <td>0</td>\n",
              "      <td>46</td>\n",
              "      <td>32</td>\n",
              "      <td>349.0</td>\n",
              "      <td>1.0</td>\n",
              "    </tr>\n",
              "    <tr>\n",
              "      <th>115686</th>\n",
              "      <td>18.01.2013</td>\n",
              "      <td>0</td>\n",
              "      <td>46</td>\n",
              "      <td>32</td>\n",
              "      <td>349.0</td>\n",
              "      <td>1.0</td>\n",
              "    </tr>\n",
              "    <tr>\n",
              "      <th>115687</th>\n",
              "      <td>26.01.2013</td>\n",
              "      <td>0</td>\n",
              "      <td>46</td>\n",
              "      <td>35</td>\n",
              "      <td>399.0</td>\n",
              "      <td>2.0</td>\n",
              "    </tr>\n",
              "    <tr>\n",
              "      <th>115688</th>\n",
              "      <td>31.01.2013</td>\n",
              "      <td>0</td>\n",
              "      <td>46</td>\n",
              "      <td>621</td>\n",
              "      <td>149.0</td>\n",
              "      <td>1.0</td>\n",
              "    </tr>\n",
              "    <tr>\n",
              "      <th>115689</th>\n",
              "      <td>07.01.2013</td>\n",
              "      <td>0</td>\n",
              "      <td>46</td>\n",
              "      <td>32</td>\n",
              "      <td>349.0</td>\n",
              "      <td>1.0</td>\n",
              "    </tr>\n",
              "  </tbody>\n",
              "</table>\n",
              "</div>\n",
              "      <button class=\"colab-df-convert\" onclick=\"convertToInteractive('df-98db1bcc-7eb4-44f9-b892-3d68ca832f19')\"\n",
              "              title=\"Convert this dataframe to an interactive table.\"\n",
              "              style=\"display:none;\">\n",
              "        \n",
              "  <svg xmlns=\"http://www.w3.org/2000/svg\" height=\"24px\"viewBox=\"0 0 24 24\"\n",
              "       width=\"24px\">\n",
              "    <path d=\"M0 0h24v24H0V0z\" fill=\"none\"/>\n",
              "    <path d=\"M18.56 5.44l.94 2.06.94-2.06 2.06-.94-2.06-.94-.94-2.06-.94 2.06-2.06.94zm-11 1L8.5 8.5l.94-2.06 2.06-.94-2.06-.94L8.5 2.5l-.94 2.06-2.06.94zm10 10l.94 2.06.94-2.06 2.06-.94-2.06-.94-.94-2.06-.94 2.06-2.06.94z\"/><path d=\"M17.41 7.96l-1.37-1.37c-.4-.4-.92-.59-1.43-.59-.52 0-1.04.2-1.43.59L10.3 9.45l-7.72 7.72c-.78.78-.78 2.05 0 2.83L4 21.41c.39.39.9.59 1.41.59.51 0 1.02-.2 1.41-.59l7.78-7.78 2.81-2.81c.8-.78.8-2.07 0-2.86zM5.41 20L4 18.59l7.72-7.72 1.47 1.35L5.41 20z\"/>\n",
              "  </svg>\n",
              "      </button>\n",
              "      \n",
              "  <style>\n",
              "    .colab-df-container {\n",
              "      display:flex;\n",
              "      flex-wrap:wrap;\n",
              "      gap: 12px;\n",
              "    }\n",
              "\n",
              "    .colab-df-convert {\n",
              "      background-color: #E8F0FE;\n",
              "      border: none;\n",
              "      border-radius: 50%;\n",
              "      cursor: pointer;\n",
              "      display: none;\n",
              "      fill: #1967D2;\n",
              "      height: 32px;\n",
              "      padding: 0 0 0 0;\n",
              "      width: 32px;\n",
              "    }\n",
              "\n",
              "    .colab-df-convert:hover {\n",
              "      background-color: #E2EBFA;\n",
              "      box-shadow: 0px 1px 2px rgba(60, 64, 67, 0.3), 0px 1px 3px 1px rgba(60, 64, 67, 0.15);\n",
              "      fill: #174EA6;\n",
              "    }\n",
              "\n",
              "    [theme=dark] .colab-df-convert {\n",
              "      background-color: #3B4455;\n",
              "      fill: #D2E3FC;\n",
              "    }\n",
              "\n",
              "    [theme=dark] .colab-df-convert:hover {\n",
              "      background-color: #434B5C;\n",
              "      box-shadow: 0px 1px 3px 1px rgba(0, 0, 0, 0.15);\n",
              "      filter: drop-shadow(0px 1px 2px rgba(0, 0, 0, 0.3));\n",
              "      fill: #FFFFFF;\n",
              "    }\n",
              "  </style>\n",
              "\n",
              "      <script>\n",
              "        const buttonEl =\n",
              "          document.querySelector('#df-98db1bcc-7eb4-44f9-b892-3d68ca832f19 button.colab-df-convert');\n",
              "        buttonEl.style.display =\n",
              "          google.colab.kernel.accessAllowed ? 'block' : 'none';\n",
              "\n",
              "        async function convertToInteractive(key) {\n",
              "          const element = document.querySelector('#df-98db1bcc-7eb4-44f9-b892-3d68ca832f19');\n",
              "          const dataTable =\n",
              "            await google.colab.kernel.invokeFunction('convertToInteractive',\n",
              "                                                     [key], {});\n",
              "          if (!dataTable) return;\n",
              "\n",
              "          const docLinkHtml = 'Like what you see? Visit the ' +\n",
              "            '<a target=\"_blank\" href=https://colab.research.google.com/notebooks/data_table.ipynb>data table notebook</a>'\n",
              "            + ' to learn more about interactive tables.';\n",
              "          element.innerHTML = '';\n",
              "          dataTable['output_type'] = 'display_data';\n",
              "          await google.colab.output.renderOutput(dataTable, element);\n",
              "          const docLink = document.createElement('div');\n",
              "          docLink.innerHTML = docLinkHtml;\n",
              "          element.appendChild(docLink);\n",
              "        }\n",
              "      </script>\n",
              "    </div>\n",
              "  </div>\n",
              "  "
            ]
          },
          "metadata": {},
          "execution_count": 4
        }
      ]
    },
    {
      "cell_type": "markdown",
      "source": [
        "# data processing"
      ],
      "metadata": {
        "id": "Tedwt1INea3u"
      }
    },
    {
      "cell_type": "code",
      "source": [
        "grid = []\n",
        "# date block unique element list [dbuel]\n",
        "dbuel = sales['date_block_num'].unique()\n",
        "for block in dbuel:\n",
        "  cur_shops = sales[sales['date_block_num'] == block]['shop_id'].unique()\n",
        "  cur_items = sales[sales['date_block_num'] == block]['item_id'].unique()\n",
        "  grid.append(np.array(list(product(*[cur_shops, cur_items, [block]])),dtype='int32'))\n",
        "\n",
        "# turn grid to dataframe vertical axis\n",
        "index_cols = ['shop_id','item_id','date_block_num']\n",
        "grid = pd.DataFrame(np.vstack(grid), columns = index_cols,dtype=np.int32)"
      ],
      "metadata": {
        "id": "5tKMp8kXasQL"
      },
      "execution_count": 5,
      "outputs": []
    },
    {
      "cell_type": "code",
      "source": [
        "# Get aggregetting values\n",
        "gb = sales.groupby(index_cols,as_index=False).agg({'item_cnt_day':'sum'})"
      ],
      "metadata": {
        "id": "sxWCkgH2h7iB"
      },
      "execution_count": 6,
      "outputs": []
    },
    {
      "cell_type": "code",
      "source": [
        "\n",
        "#join aggregated data to the grid\n",
        "all_data = pd.merge(grid,gb,how='left',on=index_cols).fillna(0)\n",
        "#sort the data\n",
        "all_data.sort_values(['date_block_num','shop_id','item_id'],inplace=True)\n",
        "all_data.rename(columns={'item_cnt_day':'target'}, inplace=True)"
      ],
      "metadata": {
        "id": "Rc5zAI1vqfqj"
      },
      "execution_count": 7,
      "outputs": []
    },
    {
      "cell_type": "markdown",
      "source": [
        "# mean encoding with target"
      ],
      "metadata": {
        "id": "1WH-hln-eeft"
      }
    },
    {
      "cell_type": "code",
      "source": [
        "# global mean :\n",
        "gl_mean_target = all_data.target.mean()\n",
        "\n",
        "# mean by target\n",
        "item_id_target_mean = all_data.groupby('item_id').target.mean()\n",
        "\n",
        "# In our non-regularized case we just *map* the computed means to the `item_id`'s\n",
        "all_data['item_target_enc'] = all_data['item_id'].map(item_id_target_mean)\n",
        "\n",
        "# fill nans if contains:\n",
        "all_data['item_target_enc'].fillna(gl_mean_target, inplace=True)"
      ],
      "metadata": {
        "id": "-pzRJvifej5v"
      },
      "execution_count": 8,
      "outputs": []
    },
    {
      "cell_type": "code",
      "source": [
        "# Finding correlation :\n",
        "co_x, co_y = all_data['item_target_enc'].values, all_data['target'].values\n",
        "\n",
        "np.corrcoef(co_x, co_y)[0][1]"
      ],
      "metadata": {
        "colab": {
          "base_uri": "https://localhost:8080/"
        },
        "id": "SZdy0I-pjrGR",
        "outputId": "6e0b7b06-617c-4a9c-cbd1-8ee179203809"
      },
      "execution_count": 9,
      "outputs": [
        {
          "output_type": "execute_result",
          "data": {
            "text/plain": [
              "0.4830386988621698"
            ]
          },
          "metadata": {},
          "execution_count": 9
        }
      ]
    },
    {
      "cell_type": "markdown",
      "source": [
        "# Mean Encoding Regularization\n",
        "\n",
        "---\n",
        "\n",
        "Due to data leakage and straitified we need to regularize"
      ],
      "metadata": {
        "id": "18sLkV1rk2AH"
      }
    },
    {
      "cell_type": "markdown",
      "source": [
        "## K_fold method :"
      ],
      "metadata": {
        "id": "k0V0xKk7lCmA"
      }
    },
    {
      "cell_type": "code",
      "source": [
        "%%time\n",
        "\n",
        "# import package StratifiedKFold\n",
        "from sklearn.model_selection import KFold\n",
        "\n",
        "\n",
        "# intialize k_fold\n",
        "k_fold = KFold( n_splits=5, shuffle=False)\n",
        "\n",
        "# regularization and assign new value :\n",
        "for tr_index, val_index in k_fold.split(all_data):\n",
        "  tr, val = all_data.loc[tr_index], all_data.loc[val_index]\n",
        "  mean = tr.groupby(['item_id']).target.mean()\n",
        "  val['cv_Item_mean'] = val['item_id'].map(mean)\n",
        "  val['cv_Item_mean'].fillna(gl_mean_target, inplace=True)\n",
        "  all_data.loc[val_index, 'cv_Item_mean'] = val"
      ],
      "metadata": {
        "colab": {
          "base_uri": "https://localhost:8080/"
        },
        "id": "oirDrlLSlAXm",
        "outputId": "b097d015-33d4-463b-ae6c-402c6d442860"
      },
      "execution_count": 10,
      "outputs": [
        {
          "output_type": "stream",
          "name": "stdout",
          "text": [
            "CPU times: user 13.5 s, sys: 369 ms, total: 13.8 s\n",
            "Wall time: 16.9 s\n"
          ]
        }
      ]
    },
    {
      "cell_type": "code",
      "source": [
        "# Finding correlation :\n",
        "co_x, co_y = all_data['cv_Item_mean'].values, all_data['target'].values\n",
        "\n",
        "np.corrcoef(co_x, co_y)[0][1]"
      ],
      "metadata": {
        "colab": {
          "base_uri": "https://localhost:8080/"
        },
        "id": "ParinSFZ0mCF",
        "outputId": "5fb7150b-5b15-4133-f08a-c8755997902c"
      },
      "execution_count": 11,
      "outputs": [
        {
          "output_type": "execute_result",
          "data": {
            "text/plain": [
              "0.41663299544365395"
            ]
          },
          "metadata": {},
          "execution_count": 11
        }
      ]
    },
    {
      "cell_type": "markdown",
      "source": [
        "## Leave-one-out (loo) :"
      ],
      "metadata": {
        "id": "KOYQBTdGnuF5"
      }
    },
    {
      "cell_type": "code",
      "source": [
        "# Calculate sum of the target values using all the objects.\n",
        "target_sum = all_data.groupby('item_id')['target'].transform('sum')\n",
        "\n",
        "# Then subtract the target of the given object and divide the resulting value by n_objects - 1.\n",
        "n_objects = all_data.groupby('item_id')['target'].transform('count')\n",
        "\n",
        "all_data['loo_item_mean'] = (target_sum - all_data['target']) / (n_objects - 1)\n",
        "all_data['loo_item_mean'].fillna(0.3343, inplace=True)"
      ],
      "metadata": {
        "id": "bo_OvPi0u4Xu"
      },
      "execution_count": 12,
      "outputs": []
    },
    {
      "cell_type": "code",
      "source": [
        "# Finding correlation :\n",
        "co_x, co_y = all_data['loo_item_mean'].values, all_data['target'].values\n",
        "\n",
        "np.corrcoef(co_x, co_y)[0][1]"
      ],
      "metadata": {
        "colab": {
          "base_uri": "https://localhost:8080/"
        },
        "id": "uR7OBuav0Di6",
        "outputId": "ac458336-e5f3-457b-ffee-de3fc9398242"
      },
      "execution_count": 13,
      "outputs": [
        {
          "output_type": "execute_result",
          "data": {
            "text/plain": [
              "0.4803848311293002"
            ]
          },
          "metadata": {},
          "execution_count": 13
        }
      ]
    },
    {
      "cell_type": "markdown",
      "source": [
        "## Smoothing method :"
      ],
      "metadata": {
        "id": "Ax280PJ90v_S"
      }
    },
    {
      "cell_type": "code",
      "source": [
        "alpha = 100\n",
        "\n",
        "item_id_target_mean = all_data.groupby('item_id')['target'].transform('mean')\n",
        "n_objects = all_data.groupby('item_id')['target'].transform('count')\n",
        "\n",
        "all_data['smooth_item_mean'] = (item_id_target_mean * n_objects + 0.3343*alpha) / (n_objects + alpha)\n",
        "\n",
        "all_data['smooth_item_mean'].fillna(0.3343, inplace=True) \n",
        "\n"
      ],
      "metadata": {
        "id": "l1sXGiMu01e0"
      },
      "execution_count": 14,
      "outputs": []
    },
    {
      "cell_type": "code",
      "source": [
        "# Finding correlation :\n",
        "co_x, co_y = all_data['smooth_item_mean'].values, all_data['target'].values\n",
        "\n",
        "np.corrcoef(co_x, co_y)[0][1]"
      ],
      "metadata": {
        "colab": {
          "base_uri": "https://localhost:8080/"
        },
        "id": "ZfyTKyF71GWI",
        "outputId": "bbc5d5eb-01d4-4c23-9ee7-188b2364b2f7"
      },
      "execution_count": 15,
      "outputs": [
        {
          "output_type": "execute_result",
          "data": {
            "text/plain": [
              "0.4818198797097264"
            ]
          },
          "metadata": {},
          "execution_count": 15
        }
      ]
    },
    {
      "cell_type": "markdown",
      "source": [
        "## Expanding mean :"
      ],
      "metadata": {
        "id": "pr4AHYWZ1voi"
      }
    },
    {
      "cell_type": "code",
      "source": [
        "# cumulative sum variable :\n",
        "cumsum = all_data.groupby('item_id')['target'].cumsum() - all_data['target']\n",
        "# cumulative count variable:\n",
        "cumcnt = all_data.groupby('item_id').cumcount()\n",
        "\n",
        "##  expanding mean :\n",
        "all_data['em_item_mean'] = cumsum / cumcnt\n",
        "all_data['em_item_mean'].fillna(0.3343, inplace=True) "
      ],
      "metadata": {
        "id": "1puje8tz1012"
      },
      "execution_count": 16,
      "outputs": []
    },
    {
      "cell_type": "code",
      "source": [
        "# Finding correlation :\n",
        "co_x, co_y = all_data['em_item_mean'].values, all_data['target'].values\n",
        "\n",
        "np.corrcoef(co_x, co_y)[0][1]"
      ],
      "metadata": {
        "colab": {
          "base_uri": "https://localhost:8080/"
        },
        "id": "wyOMyvIT9JDi",
        "outputId": "f2abc7da-7056-44ee-8106-2a99c4d94bd8"
      },
      "execution_count": 17,
      "outputs": [
        {
          "output_type": "execute_result",
          "data": {
            "text/plain": [
              "0.5025245211081697"
            ]
          },
          "metadata": {},
          "execution_count": 17
        }
      ]
    }
  ]
}