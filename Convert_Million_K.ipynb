{
  "nbformat": 4,
  "nbformat_minor": 0,
  "metadata": {
    "colab": {
      "name": "Convert_Million_K.ipynb",
      "provenance": [],
      "collapsed_sections": [],
      "authorship_tag": "ABX9TyNhJxg0Gzz6ZJW2j7DGu0FC"
    },
    "kernelspec": {
      "name": "python3",
      "display_name": "Python 3"
    },
    "language_info": {
      "name": "python"
    }
  },
  "cells": [
    {
      "cell_type": "markdown",
      "metadata": {
        "id": "MxVVK0PuNEsI"
      },
      "source": [
        "# Convert amount of Revenue, Cashflow or Sales in format as Million, Kilo(K)"
      ]
    },
    {
      "cell_type": "code",
      "metadata": {
        "colab": {
          "base_uri": "https://localhost:8080/"
        },
        "id": "VRSM9ym-NBTN",
        "outputId": "9d5a5024-ef41-4d9a-c936-14f8f3d4acd1"
      },
      "source": [
        "revenue = [229234000000, 48351000000, 574110, 260174000000, 34756000]\n",
        "print(revenue)"
      ],
      "execution_count": 1,
      "outputs": [
        {
          "output_type": "stream",
          "text": [
            "[229234000000, 48351000000, 574110, 260174000000, 34756000]\n"
          ],
          "name": "stdout"
        }
      ]
    },
    {
      "cell_type": "code",
      "metadata": {
        "colab": {
          "base_uri": "https://localhost:8080/"
        },
        "id": "ygabG8iOJEp_",
        "outputId": "069fb5f8-6bde-4238-a034-de72c7a49a70"
      },
      "source": [
        "# Make a Function with Lambda\n",
        "million_converter = lambda x: f'${x/1000000:.1f}M' if x/1000000>=1 else f'${int(x/1000)}K' if x/10000>=1 else f'${x}'\n",
        "\n",
        "#Apply function with map method\n",
        "Revenue_M = map(million_converter, revenue)\n",
        "Revenue_M = list(Revenue_M)\n",
        "\n",
        "Revenue_M"
      ],
      "execution_count": 2,
      "outputs": [
        {
          "output_type": "execute_result",
          "data": {
            "text/plain": [
              "['$229234.0M', '$48351.0M', '$574K', '$260174.0M', '$34.8M']"
            ]
          },
          "metadata": {
            "tags": []
          },
          "execution_count": 2
        }
      ]
    }
  ]
}