{
  "nbformat": 4,
  "nbformat_minor": 0,
  "metadata": {
    "colab": {
      "name": "Convert_Million_K.ipynb",
      "provenance": [],
      "collapsed_sections": [],
      "authorship_tag": "ABX9TyNjnHsI6ByxDaamKfgPtchG"
    },
    "kernelspec": {
      "name": "python3",
      "display_name": "Python 3"
    },
    "language_info": {
      "name": "python"
    }
  },
  "cells": [
    {
      "cell_type": "code",
      "metadata": {
        "colab": {
          "base_uri": "https://localhost:8080/"
        },
        "id": "ygabG8iOJEp_",
        "outputId": "7b5109e0-2936-473d-e8fe-6e4e0c414e53"
      },
      "source": [
        "revenue = [229234000000, 48351000000, 574110, 260174000000, 34756000]\n",
        "million_conv = map(lambda x: f'${x/1000000:.1f}M' if x/1000000>=1 else f'${int(x/1000)}K' if x/10000>=1 else f'${x}', revenue)\n",
        "Revenue_M = list(million_conv)\n",
        "Revenue_M"
      ],
      "execution_count": 1,
      "outputs": [
        {
          "output_type": "execute_result",
          "data": {
            "text/plain": [
              "['$229234.0M', '$48351.0M', '$574K', '$260174.0M', '$34.8M']"
            ]
          },
          "metadata": {
            "tags": []
          },
          "execution_count": 1
        }
      ]
    }
  ]
}